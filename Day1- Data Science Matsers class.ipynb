{
 "cells": [
  {
   "cell_type": "code",
   "execution_count": 1,
   "id": "3c665b1a-a746-44b6-9caf-f47b71627f09",
   "metadata": {},
   "outputs": [],
   "source": [
    "a=10\n"
   ]
  },
  {
   "cell_type": "code",
   "execution_count": 2,
   "id": "d7ea27c2-9852-41a2-ab0e-890b43894fa0",
   "metadata": {},
   "outputs": [
    {
     "data": {
      "text/plain": [
       "10"
      ]
     },
     "execution_count": 2,
     "metadata": {},
     "output_type": "execute_result"
    }
   ],
   "source": [
    "a"
   ]
  },
  {
   "cell_type": "markdown",
   "id": "a8ffc25a-f92a-4756-90ae-ff9ef5bb0d15",
   "metadata": {},
   "source": [
    "# This is the intro session \n",
    "## Example \n",
    "### Welcome to the pw Data Science masters batch\n",
    "This is the test example"
   ]
  },
  {
   "cell_type": "code",
   "execution_count": 11,
   "id": "882e4412-50ac-4b10-a95d-76a0dadb15c9",
   "metadata": {},
   "outputs": [
    {
     "data": {
      "text/plain": [
       "2"
      ]
     },
     "execution_count": 11,
     "metadata": {},
     "output_type": "execute_result"
    }
   ],
   "source": [
    "1+1"
   ]
  },
  {
   "cell_type": "code",
   "execution_count": 12,
   "id": "abaf2234-bf05-4e61-89ae-438736ba22f0",
   "metadata": {},
   "outputs": [
    {
     "data": {
      "text/plain": [
       "20"
      ]
     },
     "execution_count": 12,
     "metadata": {},
     "output_type": "execute_result"
    }
   ],
   "source": [
    "\"\"\"\n",
    "Exapmple of multi line comments \n",
    "bkksnnlaksndl\n",
    "sffakanflasfdfdlkm\n",
    "knkznffasflklkmm\n",
    "\"\"\"\n",
    "a=20\n",
    "a"
   ]
  },
  {
   "cell_type": "code",
   "execution_count": 3,
   "id": "e1f7150d-fb70-4701-b6a2-4439c1fb29de",
   "metadata": {},
   "outputs": [
    {
     "data": {
      "text/plain": [
       "20"
      ]
     },
     "execution_count": 3,
     "metadata": {},
     "output_type": "execute_result"
    }
   ],
   "source": [
    "## Comments \n",
    "##Example of single line comments\n",
    "##This is the function\n",
    "a=20\n",
    "a"
   ]
  },
  {
   "cell_type": "code",
   "execution_count": 4,
   "id": "b49fb98d-0ebb-4eb5-9c88-b993c96b9fa9",
   "metadata": {},
   "outputs": [
    {
     "data": {
      "text/plain": [
       "15"
      ]
     },
     "execution_count": 4,
     "metadata": {},
     "output_type": "execute_result"
    }
   ],
   "source": [
    "1+14"
   ]
  },
  {
   "cell_type": "markdown",
   "id": "abaebb36-9c53-48d4-a836-8bab427276e2",
   "metadata": {},
   "source": [
    "# Hello"
   ]
  },
  {
   "cell_type": "markdown",
   "id": "fe7681f5-42c7-4e25-adf0-21d867925ff7",
   "metadata": {},
   "source": [
    "## Hello1"
   ]
  },
  {
   "cell_type": "markdown",
   "id": "f2d74f6c-026c-43fb-a30c-6e6f2c7fb2b6",
   "metadata": {},
   "source": [
    "### Hello3"
   ]
  },
  {
   "cell_type": "markdown",
   "id": "98e1c8bb-2fd3-4d51-bbb6-1e2860354506",
   "metadata": {},
   "source": [
    "#### 1.hello guys how are you"
   ]
  },
  {
   "cell_type": "markdown",
   "id": "97420513-3dfc-47ad-b1b3-c4a37c75ca4a",
   "metadata": {},
   "source": [
    "### Numbers"
   ]
  },
  {
   "cell_type": "code",
   "execution_count": 1,
   "id": "89a59c9b-470d-4dda-9017-5823aebdb955",
   "metadata": {},
   "outputs": [
    {
     "data": {
      "text/plain": [
       "4"
      ]
     },
     "execution_count": 1,
     "metadata": {},
     "output_type": "execute_result"
    }
   ],
   "source": [
    "1+3"
   ]
  },
  {
   "cell_type": "code",
   "execution_count": 2,
   "id": "ce9f347e-252e-4a4e-a558-a2e807e75ce1",
   "metadata": {},
   "outputs": [
    {
     "name": "stdout",
     "output_type": "stream",
     "text": [
      "4\n"
     ]
    }
   ],
   "source": [
    "print(1+3)"
   ]
  },
  {
   "cell_type": "code",
   "execution_count": 3,
   "id": "af3fd89a-d58b-4885-9e02-74fa1978ca6a",
   "metadata": {},
   "outputs": [
    {
     "name": "stdout",
     "output_type": "stream",
     "text": [
      "5\n"
     ]
    }
   ],
   "source": [
    "a=5\n",
    "print(a)"
   ]
  },
  {
   "cell_type": "code",
   "execution_count": 6,
   "id": "b81ab1cc-08e8-463c-a67a-45f4a88e21ee",
   "metadata": {},
   "outputs": [
    {
     "name": "stdout",
     "output_type": "stream",
     "text": [
      "Hello world\n"
     ]
    }
   ],
   "source": [
    "print(\"Hello world\")"
   ]
  },
  {
   "cell_type": "code",
   "execution_count": 5,
   "id": "0c8dd51c-0c14-46f2-b680-e7b600f55627",
   "metadata": {},
   "outputs": [
    {
     "name": "stdout",
     "output_type": "stream",
     "text": [
      "Hello world my name is rishi \n",
      " and i am a student\n"
     ]
    }
   ],
   "source": [
    "print(\"Hello world my name is rishi \\n and i am a student\")"
   ]
  },
  {
   "cell_type": "markdown",
   "id": "dc538e53-0593-448e-ad3a-a85c6d422a66",
   "metadata": {},
   "source": [
    "### Variable Assignments"
   ]
  },
  {
   "cell_type": "code",
   "execution_count": 7,
   "id": "284d2522-e18c-47e1-84c4-3b104e6f94d1",
   "metadata": {},
   "outputs": [],
   "source": [
    "name=\"Rishi\"\n",
    "Company=\"PWskills\""
   ]
  },
  {
   "cell_type": "code",
   "execution_count": 9,
   "id": "63fb2c64-41b5-47df-bdc3-40e3f9f679d2",
   "metadata": {},
   "outputs": [
    {
     "data": {
      "text/plain": [
       "'PWskills'"
      ]
     },
     "execution_count": 9,
     "metadata": {},
     "output_type": "execute_result"
    }
   ],
   "source": [
    "Company"
   ]
  },
  {
   "cell_type": "code",
   "execution_count": 10,
   "id": "91e0f0d5-669f-4ba7-8af9-bc41de799ad9",
   "metadata": {},
   "outputs": [
    {
     "data": {
      "text/plain": [
       "'Rishi'"
      ]
     },
     "execution_count": 10,
     "metadata": {},
     "output_type": "execute_result"
    }
   ],
   "source": [
    "name"
   ]
  },
  {
   "cell_type": "code",
   "execution_count": 15,
   "id": "20480553-5b37-4226-bace-0d1a1236894f",
   "metadata": {},
   "outputs": [],
   "source": [
    "number=10"
   ]
  },
  {
   "cell_type": "code",
   "execution_count": 16,
   "id": "68c70544-5234-42c7-a4f3-43dc813dc8fb",
   "metadata": {},
   "outputs": [
    {
     "data": {
      "text/plain": [
       "10"
      ]
     },
     "execution_count": 16,
     "metadata": {},
     "output_type": "execute_result"
    }
   ],
   "source": [
    "number"
   ]
  },
  {
   "cell_type": "code",
   "execution_count": 17,
   "id": "62a08afe-9235-4907-ae65-1b82e58ea801",
   "metadata": {},
   "outputs": [
    {
     "data": {
      "text/plain": [
       "str"
      ]
     },
     "execution_count": 17,
     "metadata": {},
     "output_type": "execute_result"
    }
   ],
   "source": [
    "type(\"\")"
   ]
  },
  {
   "cell_type": "code",
   "execution_count": 18,
   "id": "98666958-00b5-4289-b23c-8cda520ce5cc",
   "metadata": {},
   "outputs": [
    {
     "data": {
      "text/plain": [
       "str"
      ]
     },
     "execution_count": 18,
     "metadata": {},
     "output_type": "execute_result"
    }
   ],
   "source": [
    "type(name)"
   ]
  },
  {
   "cell_type": "code",
   "execution_count": 19,
   "id": "6faf9080-90f9-4992-b0b2-e338c5138c19",
   "metadata": {},
   "outputs": [
    {
     "data": {
      "text/plain": [
       "int"
      ]
     },
     "execution_count": 19,
     "metadata": {},
     "output_type": "execute_result"
    }
   ],
   "source": [
    "type(number)"
   ]
  },
  {
   "cell_type": "code",
   "execution_count": 20,
   "id": "bab09030-0c14-4362-a16c-05113717533f",
   "metadata": {},
   "outputs": [],
   "source": [
    "decimal_num=2.5"
   ]
  },
  {
   "cell_type": "code",
   "execution_count": 21,
   "id": "d86f84f9-1c37-4f28-9740-41b15f499c78",
   "metadata": {},
   "outputs": [
    {
     "data": {
      "text/plain": [
       "2.5"
      ]
     },
     "execution_count": 21,
     "metadata": {},
     "output_type": "execute_result"
    }
   ],
   "source": [
    "decimal_num"
   ]
  },
  {
   "cell_type": "code",
   "execution_count": 22,
   "id": "eba0799e-a352-4e92-a369-9dfdf0e943c5",
   "metadata": {},
   "outputs": [
    {
     "data": {
      "text/plain": [
       "float"
      ]
     },
     "execution_count": 22,
     "metadata": {},
     "output_type": "execute_result"
    }
   ],
   "source": [
    "type(decimal_num)"
   ]
  },
  {
   "cell_type": "code",
   "execution_count": 23,
   "id": "535e3f2b-4d14-48a3-961a-77477a15fa7e",
   "metadata": {},
   "outputs": [
    {
     "data": {
      "text/plain": [
       "str"
      ]
     },
     "execution_count": 23,
     "metadata": {},
     "output_type": "execute_result"
    }
   ],
   "source": [
    "type(\"Hello\")"
   ]
  },
  {
   "cell_type": "code",
   "execution_count": 24,
   "id": "3f0fa2ac-8803-4b6b-bc51-aee8c6832507",
   "metadata": {},
   "outputs": [
    {
     "data": {
      "text/plain": [
       "complex"
      ]
     },
     "execution_count": 24,
     "metadata": {},
     "output_type": "execute_result"
    }
   ],
   "source": [
    "type(1+2j)"
   ]
  },
  {
   "cell_type": "code",
   "execution_count": null,
   "id": "555517b4-daab-426f-95c2-6ea5e447521f",
   "metadata": {},
   "outputs": [],
   "source": [
    "##bad way \n",
    "##dont start the variable number with the number \n",
    "1a\n",
    "1variable"
   ]
  },
  {
   "cell_type": "code",
   "execution_count": 26,
   "id": "3be42bee-f7a6-47b1-a929-8c0e9eeaf3e9",
   "metadata": {},
   "outputs": [],
   "source": [
    "number1=23"
   ]
  },
  {
   "cell_type": "code",
   "execution_count": 27,
   "id": "2b7e6fc4-e39d-462e-bc28-beb63adf1c0f",
   "metadata": {},
   "outputs": [
    {
     "name": "stdout",
     "output_type": "stream",
     "text": [
      "company\n",
      "Company\n"
     ]
    }
   ],
   "source": [
    "## variable are case sensetive \n",
    "company=\"ineuron\"\n",
    "Company=\"PWskilss\"\n",
    "print(\"company\")\n",
    "print(\"Company\")"
   ]
  },
  {
   "cell_type": "code",
   "execution_count": null,
   "id": "3ec7771a-db50-43cc-ba5b-5bb819bc164a",
   "metadata": {},
   "outputs": [],
   "source": [
    "## Reserved keywords\n",
    "\"\"\"\n",
    "int,float,len,complex,bool,str,return,yield\n",
    "\"\"\""
   ]
  },
  {
   "cell_type": "code",
   "execution_count": 25,
   "id": "a1231eee-8803-4a28-8b32-e552b2f4dc73",
   "metadata": {},
   "outputs": [
    {
     "data": {
      "text/plain": [
       "True"
      ]
     },
     "execution_count": 25,
     "metadata": {},
     "output_type": "execute_result"
    }
   ],
   "source": [
    "## Boolean\n",
    "True"
   ]
  },
  {
   "cell_type": "code",
   "execution_count": 4,
   "id": "cef57f5c-96e1-44be-9a84-20a7b2532174",
   "metadata": {},
   "outputs": [
    {
     "data": {
      "text/plain": [
       "False"
      ]
     },
     "execution_count": 4,
     "metadata": {},
     "output_type": "execute_result"
    }
   ],
   "source": [
    "False"
   ]
  },
  {
   "cell_type": "code",
   "execution_count": 5,
   "id": "71a709d8-0a31-47f2-9e88-5b5add2bfac9",
   "metadata": {},
   "outputs": [
    {
     "data": {
      "text/plain": [
       "False"
      ]
     },
     "execution_count": 5,
     "metadata": {},
     "output_type": "execute_result"
    }
   ],
   "source": [
    "True and False"
   ]
  },
  {
   "cell_type": "code",
   "execution_count": 6,
   "id": "0e4b74a7-bd98-461a-a7af-f7110f2de496",
   "metadata": {},
   "outputs": [
    {
     "data": {
      "text/plain": [
       "True"
      ]
     },
     "execution_count": 6,
     "metadata": {},
     "output_type": "execute_result"
    }
   ],
   "source": [
    "True or False"
   ]
  },
  {
   "cell_type": "code",
   "execution_count": 8,
   "id": "9170f768-c7c3-4de8-ae02-e8b49691a55a",
   "metadata": {},
   "outputs": [
    {
     "data": {
      "text/plain": [
       "False"
      ]
     },
     "execution_count": 8,
     "metadata": {},
     "output_type": "execute_result"
    }
   ],
   "source": [
    "not True"
   ]
  },
  {
   "cell_type": "code",
   "execution_count": 9,
   "id": "66f911b9-baba-4965-9e63-c1ed5b811667",
   "metadata": {},
   "outputs": [
    {
     "data": {
      "text/plain": [
       "True"
      ]
     },
     "execution_count": 9,
     "metadata": {},
     "output_type": "execute_result"
    }
   ],
   "source": [
    "not False"
   ]
  },
  {
   "cell_type": "code",
   "execution_count": 10,
   "id": "6c6fbfcd-e4bd-4e10-90aa-4566114c6d39",
   "metadata": {},
   "outputs": [
    {
     "data": {
      "text/plain": [
       "bool"
      ]
     },
     "execution_count": 10,
     "metadata": {},
     "output_type": "execute_result"
    }
   ],
   "source": [
    "type(not False)"
   ]
  },
  {
   "cell_type": "code",
   "execution_count": 11,
   "id": "a44dc678-9423-44a6-a0d8-1d430c3b5a6b",
   "metadata": {},
   "outputs": [
    {
     "data": {
      "text/plain": [
       "False"
      ]
     },
     "execution_count": 11,
     "metadata": {},
     "output_type": "execute_result"
    }
   ],
   "source": [
    "## Typecasting\n",
    "bool(0)"
   ]
  },
  {
   "cell_type": "code",
   "execution_count": 22,
   "id": "5f2834fc-5617-441f-9cb9-605d92dd186e",
   "metadata": {},
   "outputs": [
    {
     "data": {
      "text/plain": [
       "'23'"
      ]
     },
     "execution_count": 22,
     "metadata": {},
     "output_type": "execute_result"
    }
   ],
   "source": [
    "str(23)"
   ]
  },
  {
   "cell_type": "code",
   "execution_count": 23,
   "id": "7446da6b-c6fc-4ce6-8770-239cd358fc47",
   "metadata": {},
   "outputs": [
    {
     "data": {
      "text/plain": [
       "23"
      ]
     },
     "execution_count": 23,
     "metadata": {},
     "output_type": "execute_result"
    }
   ],
   "source": [
    "int(\"23\")"
   ]
  },
  {
   "cell_type": "code",
   "execution_count": 24,
   "id": "4111e572-7b25-4146-a76d-c2aee5081499",
   "metadata": {},
   "outputs": [
    {
     "data": {
      "text/plain": [
       "int"
      ]
     },
     "execution_count": 24,
     "metadata": {},
     "output_type": "execute_result"
    }
   ],
   "source": [
    "type(int(\"23\"))"
   ]
  },
  {
   "cell_type": "code",
   "execution_count": 12,
   "id": "5ec90271-140c-48e3-9e70-38cf90c7b69e",
   "metadata": {},
   "outputs": [
    {
     "data": {
      "text/plain": [
       "True"
      ]
     },
     "execution_count": 12,
     "metadata": {},
     "output_type": "execute_result"
    }
   ],
   "source": [
    "bool(1)"
   ]
  },
  {
   "cell_type": "code",
   "execution_count": 20,
   "id": "ba237052-be0f-4431-8e8d-4b4218107b29",
   "metadata": {},
   "outputs": [
    {
     "name": "stdout",
     "output_type": "stream",
     "text": [
      "True\n"
     ]
    }
   ],
   "source": [
    "a=1\n",
    "if bool(a)==True:\n",
    "    print(\"True\")"
   ]
  },
  {
   "cell_type": "code",
   "execution_count": 21,
   "id": "35845d7d-eaa2-4f0c-bb83-08ac44ca3a78",
   "metadata": {},
   "outputs": [
    {
     "data": {
      "text/plain": [
       "True"
      ]
     },
     "execution_count": 21,
     "metadata": {},
     "output_type": "execute_result"
    }
   ],
   "source": [
    "bool(a)"
   ]
  },
  {
   "cell_type": "markdown",
   "id": "8cf0ee42-64ba-4390-a0f1-f329a5b6dbe3",
   "metadata": {},
   "source": [
    "### Dynamic Typing"
   ]
  },
  {
   "cell_type": "code",
   "execution_count": 26,
   "id": "69679ef4-5fdb-47b6-8c5c-ed3e07d8751e",
   "metadata": {},
   "outputs": [],
   "source": [
    "a=12\n",
    "str1=\"Rishi\"\n",
    "a=\"var\""
   ]
  },
  {
   "cell_type": "code",
   "execution_count": 29,
   "id": "ffdef69f-9b18-419d-b079-c5d5f09ecd83",
   "metadata": {},
   "outputs": [
    {
     "name": "stdout",
     "output_type": "stream",
     "text": [
      "<class 'str'>\n"
     ]
    }
   ],
   "source": [
    "print(type(a))"
   ]
  },
  {
   "cell_type": "code",
   "execution_count": null,
   "id": "13f3687a-0e17-4f4f-8fab-449f02516fd2",
   "metadata": {},
   "outputs": [],
   "source": [
    "## Concatenation between different types"
   ]
  },
  {
   "cell_type": "code",
   "execution_count": 30,
   "id": "5c294e2f-7dd8-4c61-8ecc-3b295fb62da7",
   "metadata": {},
   "outputs": [
    {
     "data": {
      "text/plain": [
       "'11'"
      ]
     },
     "execution_count": 30,
     "metadata": {},
     "output_type": "execute_result"
    }
   ],
   "source": [
    "\"1\"+\"1\""
   ]
  },
  {
   "cell_type": "code",
   "execution_count": 31,
   "id": "bdddde93-37e5-4b0b-80b5-52ebc5173188",
   "metadata": {},
   "outputs": [
    {
     "data": {
      "text/plain": [
       "2"
      ]
     },
     "execution_count": 31,
     "metadata": {},
     "output_type": "execute_result"
    }
   ],
   "source": [
    "int(\"1\")+int(\"1\")"
   ]
  },
  {
   "cell_type": "code",
   "execution_count": 32,
   "id": "65397440-0ae8-45fc-b4cb-3b1d4b1d2419",
   "metadata": {},
   "outputs": [
    {
     "data": {
      "text/plain": [
       "'1111111111111111111111111111111111111111111111111111111111111111111111111111111111111111111111111111'"
      ]
     },
     "execution_count": 32,
     "metadata": {},
     "output_type": "execute_result"
    }
   ],
   "source": [
    "\"1\"*100"
   ]
  }
 ],
 "metadata": {
  "kernelspec": {
   "display_name": "Python 3 (ipykernel)",
   "language": "python",
   "name": "python3"
  },
  "language_info": {
   "codemirror_mode": {
    "name": "ipython",
    "version": 3
   },
   "file_extension": ".py",
   "mimetype": "text/x-python",
   "name": "python",
   "nbconvert_exporter": "python",
   "pygments_lexer": "ipython3",
   "version": "3.10.8"
  }
 },
 "nbformat": 4,
 "nbformat_minor": 5
}
